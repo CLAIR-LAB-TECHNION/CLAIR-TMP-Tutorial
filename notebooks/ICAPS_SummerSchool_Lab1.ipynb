{
  "nbformat": 4,
  "nbformat_minor": 0,
  "metadata": {
    "colab": {
      "provenance": [],
      "include_colab_link": true
    },
    "kernelspec": {
      "name": "python3",
      "display_name": "Python 3"
    },
    "language_info": {
      "name": "python"
    }
  },
  "cells": [
    {
      "cell_type": "markdown",
      "metadata": {
        "id": "view-in-github",
        "colab_type": "text"
      },
      "source": [
        "<a href=\"https://colab.research.google.com/github/CLAIR-LAB-TECHNION/ICAPS-24/blob/main/notebooks/ICAPS_SummerSchool_Lab1.ipynb\" target=\"_parent\"><img src=\"https://colab.research.google.com/assets/colab-badge.svg\" alt=\"Open In Colab\"/></a>"
      ]
    },
    {
      "cell_type": "markdown",
      "source": [
        "# Why we need TAMP - running example"
      ],
      "metadata": {
        "id": "r1gjNTpxi56J"
      }
    },
    {
      "cell_type": "markdown",
      "source": [
        "\n",
        "\n",
        "*  n-table blocks world\n",
        "\n",
        "* challenges:\n",
        "  * continuous state space (large search space)\n",
        "  * multiple way to solve the task\n",
        "  * ...\n"
      ],
      "metadata": {
        "id": "LZxWlHkYkn5E"
      }
    },
    {
      "cell_type": "markdown",
      "source": [
        "version 1:  per block\n",
        "vesion 2 : high level request (2 yellow blocks on table 2)\n",
        "version 3: accountig for movement costs"
      ],
      "metadata": {
        "id": "F0xrw5RdSDF3"
      }
    },
    {
      "cell_type": "code",
      "execution_count": null,
      "metadata": {
        "id": "-LmAZe5ch8jE"
      },
      "outputs": [],
      "source": []
    },
    {
      "cell_type": "markdown",
      "source": [
        "# Task Planning with AIDM"
      ],
      "metadata": {
        "id": "P5aCvlAfjHGM"
      }
    },
    {
      "cell_type": "markdown",
      "source": [
        "\n",
        "* pddl version of NTBW\n",
        "  * brief intro to pddl\n",
        "* solving NTBW with best first search\n",
        "  * visualize symbolic 2D (maybe)\n",
        "\n",
        "\n"
      ],
      "metadata": {
        "id": "qX9lQnEnk0-I"
      }
    },
    {
      "cell_type": "code",
      "source": [],
      "metadata": {
        "id": "PTc87ooIjS8z"
      },
      "execution_count": null,
      "outputs": []
    },
    {
      "cell_type": "markdown",
      "source": [
        "# Why we need TAMP - revisited"
      ],
      "metadata": {
        "id": "qGKof-Swjh-R"
      }
    },
    {
      "cell_type": "markdown",
      "source": [
        "\n",
        "\n",
        "*   What's missing in task planning and why we need motion planning\n",
        "*   Why seperate task planning and motion planning is not enough\n",
        "* do task plan with motion planning (random sample) in mujoco\n"
      ],
      "metadata": {
        "id": "e4AzSLnUlbd3"
      }
    },
    {
      "cell_type": "code",
      "source": [],
      "metadata": {
        "id": "hwzOxyE8jgjz"
      },
      "execution_count": null,
      "outputs": []
    },
    {
      "cell_type": "markdown",
      "source": [
        "# Mujoco - (very) brief introduction (more on this tomorrow)"
      ],
      "metadata": {
        "id": "TqqhGZ2qjUdf"
      }
    },
    {
      "cell_type": "markdown",
      "source": [
        "\n",
        "\n",
        "* Mujoco as an example physics engine\n",
        "* demonstrate inverse kinematics through challenges\n",
        "  * e.g., give actions to put arm in certain config\n"
      ],
      "metadata": {
        "id": "WhUWkCeQlJDN"
      }
    },
    {
      "cell_type": "code",
      "source": [],
      "metadata": {
        "id": "scoRfwEXjmtK"
      },
      "execution_count": null,
      "outputs": []
    }
  ]
}